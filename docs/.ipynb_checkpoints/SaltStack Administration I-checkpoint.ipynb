{
 "cells": [
  {
   "cell_type": "markdown",
   "metadata": {},
   "source": [
    "<h1 style='font-family: helvetica',align = 'center'>SaltStack Administration </h1>\n",
    "<h2 style='font-family: helvetica',align='center'>Created 2017/02/01 by Braun Brelin</h2>\n"
   ]
  },
  {
   "cell_type": "markdown",
   "metadata": {},
   "source": [
    "## What is DevOps?\n",
    "- All about bringing together developers and operations teams\n",
    "- Automating the environment\n",
    "- Measuring application performance\n"
   ]
  },
  {
   "cell_type": "markdown",
   "metadata": {},
   "source": [
    "### Automate everything\n",
    "- Automate code testing\n",
    "- Automate workflows\n",
    "- Automate infrastructure"
   ]
  },
  {
   "cell_type": "markdown",
   "metadata": {},
   "source": [
    " ### Constant iteration of development\n",
    "- Write new features and bug fixes in small chunks\n",
    "- Automatically create, test and monitor new software additions\n"
   ]
  },
  {
   "cell_type": "markdown",
   "metadata": {},
   "source": [
    "### Synchronize environments\n",
    "- Identical environments for development, test and production\n"
   ]
  },
  {
   "cell_type": "markdown",
   "metadata": {},
   "source": [
    "### Monitor yourself\n",
    "- Adopt iterative processes to monitor and measure code and operations daily.\n",
    "- Improve ability to quickly respond to customer concerns and market conditions. "
   ]
  },
  {
   "cell_type": "markdown",
   "metadata": {},
   "source": [
    "### Write code rather than perform manual actions\n",
    "- Teams write code to automate configuration management\n",
    "- Teams write code to handle triggered events.\n",
    "- Teams write code to allow them to scale their environment\n"
   ]
  },
  {
   "cell_type": "markdown",
   "metadata": {},
   "source": [
    "### Use source code control\n",
    "- Manage and document all changes to application code\n",
    "- Manage and document all changes to configurations and documentation."
   ]
  },
  {
   "cell_type": "markdown",
   "metadata": {},
   "source": [
    "### Adopt proper discipline\n",
    "- Use devops to develop processes in place to manage your environment and your applications\n",
    "- Put an end to controlled chaos that is the lot of most IT departments\n",
    "- Understand the control the impact of unforseen events and disasters. "
   ]
  },
  {
   "cell_type": "markdown",
   "metadata": {},
   "source": [
    "### Reduce time to market\n",
    "- Use devops to reduce the time it takes to bring new features and bug fixes from weeks and months to days and hours.\n",
    "- Deploy frequently using an Agile like methodology."
   ]
  },
  {
   "cell_type": "markdown",
   "metadata": {},
   "source": [
    "## What does Saltstack allow us to do?\n",
    "- Describe our infrastructure with code.\n",
    "- Makes our infrastructure scalable\n",
    "- Makes our infrastructure reliable.\n",
    "- Gives us consistent environments. \n",
    "- Better Security\n",
    "- Ability to quickly duplicate our environments. \n",
    "- Simplifies auditing and tracking capabilities"
   ]
  },
  {
   "cell_type": "markdown",
   "metadata": {},
   "source": [
    "### Managing infrastructure as code\n",
    "- Gives us revision control\n",
    "- Allows use of bug tracking and ticketing systems. \n",
    "- Ability to do peer review before changes happen.\n",
    "- Gives us infrastucture design patterns. \n",
    "- Test infrastucture changes the same way we test application changes."
   ]
  },
  {
   "cell_type": "markdown",
   "metadata": {},
   "source": [
    "### Monitoring and Metrics\n",
    "- Allows to track every possible resource\n",
    "- Gives us alerts on all services, availability and response times\n",
    "- Capture, learn and improve\n",
    "- Share access and data with everyone on the team\n",
    "- Plan metrics and monitoring into the application lifecycle.\n",
    "- Easily integrate third party monitoring and logging tools."
   ]
  },
  {
   "cell_type": "markdown",
   "metadata": {},
   "source": [
    "## What is SaltStack?\n",
    "- A tool to turn your infrastructure into software. \n",
    "- Automates packing and provisioning of code to your IT environment.\n",
    "- A massive finite state machine\n",
    "- Configuration manger for your operations devops and cloudops environments. \n",
    "\n"
   ]
  },
  {
   "cell_type": "markdown",
   "metadata": {},
   "source": [
    "## Saltstack components\n",
    " - Salt Master\n",
    " - Salt Minions\n",
    " - Execution Modules\n",
    " - States \n",
    " - Grains\n",
    " - Pillars\n",
    " - Top File\n",
    " - Runners\n",
    " - Returners\n",
    " - Reactors\n",
    " - Salt Cloud\n",
    " - Salt SSH "
   ]
  },
  {
   "cell_type": "markdown",
   "metadata": {},
   "source": [
    "### Salt Master\n",
    "- Central Management Server\n",
    "- Used to send commands and configuration data to salt minions running on managed systems."
   ]
  },
  {
   "cell_type": "markdown",
   "metadata": {},
   "source": [
    "### Salt Minion\n",
    "- Software that runs on a managed system. \n",
    "- Receives commands and configuration data from the Salt master\n"
   ]
  },
  {
   "cell_type": "markdown",
   "metadata": {},
   "source": [
    "### Execution Modules\n",
    "- Ad hoc commands executed from the command line against one or more managed systems.\n",
    "- perform real-time monitoring, status and inventory\n",
    "- Run one-off commands or scripts\n",
    "- Deploying critical updates."
   ]
  },
  {
   "cell_type": "markdown",
   "metadata": {},
   "source": [
    "### States\n",
    "- A representation of a system configuration. Can be declarative or imperative."
   ]
  },
  {
   "cell_type": "markdown",
   "metadata": {},
   "source": [
    "### Grains\n",
    "- Static system information about the managed system.\n",
    "- Examples include the operating system. CPU, Memory, and other properties.\n",
    "- You can define customized grains (properties) for your systems."
   ]
  },
  {
   "cell_type": "markdown",
   "metadata": {},
   "source": [
    "### Pillars\n",
    "- User defined properties.  \n",
    "- Stored securely on the salt master.\n",
    "- Assignable to one or more minions using targets\n",
    "- Examples include network ports, file paths, passwords, configuration parameters\n",
    "\n"
   ]
  },
  {
   "cell_type": "markdown",
   "metadata": {},
   "source": [
    "### Top file\n",
    "- Matches states and pillar data to minions\n"
   ]
  },
  {
   "cell_type": "markdown",
   "metadata": {},
   "source": [
    "### Runners\n",
    "- Modules that execute on the salt master to perform tasks. \n",
    "- Examples include runners that report job status, connection status, and query minions"
   ]
  },
  {
   "cell_type": "markdown",
   "metadata": {},
   "source": [
    "### Returners\n",
    "- Modules that can return data to various sources, such as a database.\n",
    "- Returners can run on the Salt minions or the Salt master."
   ]
  },
  {
   "cell_type": "markdown",
   "metadata": {},
   "source": [
    "### Reactor\n",
    "- Component that can be programmed to trigger reactions to specific events. \n"
   ]
  },
  {
   "cell_type": "markdown",
   "metadata": {},
   "source": [
    "### Salt Cloud\n",
    "- Allows provisioning of systems on cloud providers or hypervisors \n",
    "- Immediately brings these systems under salt management. "
   ]
  },
  {
   "cell_type": "markdown",
   "metadata": {},
   "source": [
    "### Salt SSH\n",
    "- Allows us to run Salt commands over SSH for systems that do not have a minion provisioned."
   ]
  },
  {
   "cell_type": "markdown",
   "metadata": {},
   "source": [
    "## Architectural overview of remote execution\n",
    "Salt is a highly configurable, scalable and robust application that allows one master to manage thousands of minions simultaneously with almost no performance loss.  This means that the time required to update many minions is at worst a logarithmic function rather than a linear or exponential function.    "
   ]
  },
  {
   "cell_type": "markdown",
   "metadata": {},
   "source": [
    "All Salt minions receive commands at the same time.  Salt can use multiple protocols to achieve this, however the recommended (and default) protocol is the ZeroMQ message queuing system.  While Salt can interface with many types of data stores, it's real win is being able to query minions in real time.  "
   ]
  },
  {
   "cell_type": "markdown",
   "metadata": {},
   "source": [
    "While Salt mainstains a master/slave relationship between the master and the minions, communication with the minions is mostly a set of instructions or commands to run.  The minion is responsible for doing the heavy lifting and returning the results back to the master."
   ]
  },
  {
   "cell_type": "markdown",
   "metadata": {},
   "source": [
    "Salt normalizes commands between different hardware platforms.  All commands and states are the same regardless of the underlying operating system being run on the minion. "
   ]
  },
  {
   "cell_type": "markdown",
   "metadata": {},
   "source": [
    "Salt will run wherever you can install Python.  If a minion cannot run Python, then Salt provides a *proxy minion* that can interface with the real minion and issue commands on behalf of the master un the minion's native protocol. Additionally, the proxy parses and returns all output from the minion back to the master. "
   ]
  },
  {
   "cell_type": "markdown",
   "metadata": {},
   "source": [
    "Salt can perform all of its functions without requiring or using a programming language (Although you will get its best performance if you know some of the Python programming language).   "
   ]
  },
  {
   "cell_type": "markdown",
   "metadata": {},
   "source": [
    "Everything in Salt is extensible.  You can even change the underlying network protocol.  You can create your own modules as well.  Following is an example of the remote execution architecture diagram. "
   ]
  },
  {
   "cell_type": "markdown",
   "metadata": {},
   "source": [
    "<img src = '../graphics/RemoteMethodExecutionArchitecture.png'> </img>"
   ]
  },
  {
   "cell_type": "markdown",
   "metadata": {},
   "source": [
    "The preceeding diagram shows an example of the execution model.  Note that this diagram omits the configuration management portion of SaltStack and focuses on the remote execution subsystem.  It shows that when a job runs, many different subsystems of Salt.  Looking at this diagram we see the following<br><br>\n",
    "- Start jobs by calling the command line interface, a RESTful service or a Python script.\n",
    "- Output is formatted by default as YAML, however, other formats, such as JSON, plain text and other formats are also supported.\n",
    "- Results can be stored in many ways, SQL databases, NoSQL databases, flat text files, or any other data store. \n",
    "- The job returner can be any one of a number of plugins to other applications, or even not exist at all. \n",
    "- Salt can abstract details of the underlying O/S or applications by using the concept of a *virtual module*. For example the *pkg* module contains support for both the Debian *aptpkg* and the Red Hat *yumpkg* modules, however, we only need to call the *pkg* module directly.\n"
   ]
  },
  {
   "cell_type": "markdown",
   "metadata": {},
   "source": [
    "Salt uses a publish/subscribe model (also known as an observer pattern).  The Salt minion subscribes to the salt master via a persistent connection.  When an even happens, the master publishes messages that the minions can receive and act upon."
   ]
  },
  {
   "cell_type": "markdown",
   "metadata": {},
   "source": [
    "Salt uses Public Key Infrastructure for secure authentication.  <br>\n",
    "The Salt minion on starting up for the first time looks for a master named *salt* (The default name).  The minion sends its public key to the master.  The master must accept the key, either through manual intervention (The salt-key command) or through an automated process. Note that the minion won't be able to run any commands until this key is accepted. <br>\n",
    "Encryption is achieved through the use of the Advanced Encryption Standard (AES).  The AES key is changed everytime the salt-master reboots or a minion key is deleted.<br>\n",
    "Access Control verification is done through the Publisher ACL (or whatever ACL standard you choose).  Every command run on a minion must be verified through this ACL to make sure that the command sender has permission to do so. "
   ]
  },
  {
   "cell_type": "markdown",
   "metadata": {},
   "source": [
    "## Salt States\n",
    "The core of the Salt system is the *Salt state*.  States are kept in .sls files known as Salt State Files. Salt State files are data structures that define the desired state of any minion.  These state files are implemented in Python as Python data structures, such as lists, dictionarys, strings and so on.  \n"
   ]
  },
  {
   "cell_type": "markdown",
   "metadata": {},
   "source": [
    "Salt state files are kept in a heirarchical format known as a state tree  with the root of the tree  being the *top.sls* file. Beneath the top level directory you can create directories for each type of state that you wish.\n",
    "\n",
    "Here's an example of a state tree hierarchy. \n"
   ]
  },
  {
   "cell_type": "markdown",
   "metadata": {},
   "source": [
    "<img src='../graphics/State%20Heirarchy%20Diagram.png'> </img>"
   ]
  },
  {
   "cell_type": "markdown",
   "metadata": {},
   "source": [
    "Let's see how this directory and file structure might be implemented.  The top level state file is always called top.sls.  Beneath this, for each state that we define, we create a directory and put the configuration files for that state there.  Salt looks for an *init.sls* file as the main configuration file for that state.\n",
    "Let's take a look at the nginx init.sls file.\n"
   ]
  },
  {
   "cell_type": "markdown",
   "metadata": {},
   "source": [
    "<table align='left', width='950px'>\n",
    "<tr>\n",
    "<td>\n",
    "<p style='font-family:courier'>\n",
    "nginx:    \\# <--- The state identifier<br>\n",
    "&nbsp;&nbsp;pkg:    <br>\n",
    "&nbsp;&nbsp;&nbsp;&nbsp;- installed    \\# < --- This is the pkg.installed fuction.  I.e. we want the nginx package installed <br>\n",
    "&nbsp;&nbsp;service.running: \\# <--- This is the service.running function. It will automatically start nginx. <br>\n",
    "&nbsp;&nbsp;&nbsp;&nbsp;- watch:       \\# <--- When certain files change, we want to restart the nginx server. Watch tells salt <br>\n",
    "&nbsp;&nbsp;&nbsp;&nbsp;&nbsp;&nbsp;&nbsp;&nbsp;&nbsp;&nbsp;&nbsp;&nbsp;&nbsp;\\#      to monitor the files listed below and restart when they change. <br>\n",
    "&nbsp;&nbsp;- pkg: nginx<br>\n",
    "&nbsp;&nbsp;&nbsp;&nbsp;- file: /etc/nginx/nginx.conf    \\# <--- File to watch for. <br>\n",
    "<br>\n",
    "\\# The next two sections describe how we manage the files specified on the monitor watch list.  <br>\n",
    "&nbsp;&nbsp;      /etc/nginx/nginx.conf:<br>\n",
    "&nbsp;&nbsp;&nbsp;&nbsp;  file.managed:<br>\n",
    "&nbsp;&nbsp;&nbsp;&nbsp;&nbsp;&nbsp;    - source: salt://nginx/files/etc/nginx/nginx.conf <br>\n",
    "&nbsp;&nbsp;&nbsp;&nbsp;&nbsp;&nbsp;    - user: root <br>\n",
    "&nbsp;&nbsp; &nbsp;&nbsp;&nbsp;&nbsp;   - group: root <br>\n",
    "&nbsp;&nbsp; &nbsp;&nbsp;&nbsp;&nbsp;   - mode: 640<br><br>\n",
    "\\# This section controls the nginx defaults file.  We'd like to customize this for each web server we set up.<br>\n",
    "\\# To do this, we use a jinja template.  We put the .jinja on the end of the filename so we know that it's a\n",
    "\\# jinja template.  Also, we tell Salt to use jinja as the template format. <br>\n",
    "&nbsp;&nbsp;/etc/nginx/sites-available/default:<br>\n",
    "&nbsp;&nbsp;&nbsp;&nbsp;  file.managed:<br>\n",
    "&nbsp;&nbsp;&nbsp;&nbsp;&nbsp;&nbsp;    - source: salt://nginx/files/etc/nginx/sites-available/default.jinja<br>\n",
    " &nbsp;&nbsp;&nbsp;&nbsp;&nbsp;&nbsp;   - template: jinja<br>\n",
    " &nbsp;&nbsp;&nbsp;&nbsp;&nbsp;&nbsp;   - user: root<br>\n",
    "&nbsp;&nbsp;&nbsp;&nbsp;&nbsp;&nbsp;    - group: root<br>\n",
    "&nbsp;&nbsp;&nbsp;&nbsp;&nbsp;&nbsp;    - mode: 640<br><br>\n",
    "\\# The sites-enabled default file is set up as a symbolic link.  Note that we require the source file in the<br> \n",
    "\\# link to be available before we try and set up the symbolic link.<br>\n",
    "/etc/nginx/sites-enabled/default:<br>\n",
    " &nbsp;&nbsp; file.symlink:<br>\n",
    " &nbsp;&nbsp;&nbsp;&nbsp;   - target: /etc/nginx/sites-available/default<br>\n",
    " &nbsp;&nbsp;&nbsp;&nbsp;&nbsp;&nbsp;   - require:<br>\n",
    " &nbsp;&nbsp;&nbsp;&nbsp;&nbsp;&nbsp;     - file: /etc/nginx/sites-available/default<br>\n",
    "\n",
    "</p>\n",
    "</td>\n",
    "</tr>\n",
    "</table>"
   ]
  },
  {
   "cell_type": "markdown",
   "metadata": {},
   "source": [
    "Once the sls file is written, we need to be able to test it.  To do this, run the following command:]\n",
    "<table align='left',width='750px'>\n",
    "<tr>\n",
    "<td>\n",
    "<p style='font-family:courier'>\n",
    "salt-call state.apply -l debug<br>\n",
    "</p>\n",
    "</td>\n",
    "</tr>\n",
    "</table>"
   ]
  },
  {
   "cell_type": "markdown",
   "metadata": {},
   "source": [
    "## Salt Grains\n"
   ]
  },
  {
   "cell_type": "markdown",
   "metadata": {},
   "source": [
    "What are Grains?  Grains are pieces of information, ususally about the minion itself.  For example grains may include information about the Operating System distribution and type or the hardware platform, such as CPU or memory. "
   ]
  },
  {
   "cell_type": "markdown",
   "metadata": {},
   "source": [
    "SaltStack provides many grains called *core* grains immediately.  You can also define customized grains at your convenience. "
   ]
  },
  {
   "cell_type": "markdown",
   "metadata": {},
   "source": [
    "To find out what grains are available by default, you can list them from the grains module by typing in the following command:\n",
    "<table align='left', width='750px'>\n",
    "<tr>\n",
    "<td>\n",
    "<p style='font-family:courier'>\n",
    "salt '*' grains.ls\n",
    "</p>\n",
    "</td>\n",
    "</tr>\n",
    "</table>"
   ]
  },
  {
   "cell_type": "markdown",
   "metadata": {},
   "source": [
    "You can also list the values in the salt grains by using the command:\n",
    "<table align='left', width='750px'>\n",
    "<tr>\n",
    "<td>\n",
    "<p style='font-family:courier'>\n",
    "salt '*' grains.items\n",
    "</p>\n",
    "</td>\n",
    "</tr>\n",
    "</table>"
   ]
  },
  {
   "cell_type": "markdown",
   "metadata": {},
   "source": [
    "Customized grains can be stored in different places.  \n",
    "- The minion configuration file.\n",
    "- The grain configuration file in /etc/salt/grains\n",
    "<br><br>"
   ]
  },
  {
   "cell_type": "markdown",
   "metadata": {},
   "source": [
    "Here is an example of storing customized grains in the minion configuration file. \n",
    "<table align='left', width='750px'>\n",
    "<tr>\n",
    "<td>\n",
    "<p style='font-family:courier'>\n",
    "grains:<br>\n",
    "&nbsp;&nbsp;roles:<br>\n",
    "&nbsp;&nbsp;&nbsp;&nbsp;   - webserver<br>\n",
    "&nbsp;&nbsp;&nbsp;&nbsp;    - memcache<br>\n",
    "&nbsp;&nbsp;deployment: datacenter4<br>\n",
    "&nbsp;&nbsp;cabinet: 13<br>\n",
    "&nbsp;&nbsp;cab_u: 14-15<br>\n",
    "</p>\n",
    "</td>\n",
    "</tr>\n",
    "</table>"
   ]
  },
  {
   "cell_type": "markdown",
   "metadata": {},
   "source": [
    "And here is an example of storing customized grains in the /etc/salt/grains file\n",
    "<table align='left', width='750px'>\n",
    "<tr>\n",
    "<td>\n",
    "<p style='font-family:courier'>\n",
    "&nbsp;&nbsp;roles:<br>\n",
    "&nbsp;&nbsp;&nbsp;&nbsp;   - webserver<br>\n",
    "&nbsp;&nbsp;&nbsp;&nbsp;    - memcache<br>\n",
    "&nbsp;&nbsp;deployment: datacenter4<br>\n",
    "&nbsp;&nbsp;cabinet: 13<br>\n",
    "&nbsp;&nbsp;cab_u: 14-15<br>\n",
    "</p>\n",
    "</td>\n",
    "</tr>\n",
    "</table>\n",
    "<br><br><br><br><br><br><br><br><br>\n",
    "Because the grain is already stored in the grain configuration file, we don't need the top level 'grain' key."
   ]
  },
  {
   "cell_type": "markdown",
   "metadata": {},
   "source": [
    "Customized grains can override the core grain objects.  When Salt loads grains it has an order of precedence. \n",
    "Custom grains in /etc/salt/minion.\n",
    "1. Custom grain modules in \\_grains directory, synced to minions.\n",
    "2. Custom grains in /etc/salt/grains.\n",
    "3. Custom grains in /etc/salt/minion.\n",
    "4. Core grains.\n",
    "\n",
    "If it finds the grain in anyone of these areas, it finishes its lookup.  I.e. a Custom grain with the same name as the core grain will be found and used instead of the core grain.\n"
   ]
  },
  {
   "cell_type": "markdown",
   "metadata": {},
   "source": [
    "When a grain is changed in some way, we need to re-sync it for all or some of the minions who's states depend on it.  We can do this one of two ways.\n",
    "\n",
    "<table align='left', width='750px'>\n",
    "<tr>\n",
    "<td>\n",
    "<p style='font-family:courier'>\n",
    "saltutil.sync.grains <br>\n",
    "or<br>\n",
    "saltutil.sync_all\n",
    "</p>\n",
    "</td>\n",
    "</tr>\n",
    "</table>"
   ]
  },
  {
   "cell_type": "markdown",
   "metadata": {},
   "source": [
    "## Salt Pillars\n",
    "Pillars are somewhat similar to Grains in that they store data about minions.  They're tree-like structures that store data about minions on the salt master.  They allow confidential, secure data to be stored and passed on only to the minions who have allowed access to it. "
   ]
  },
  {
   "cell_type": "markdown",
   "metadata": {},
   "source": [
    "Pillars data is useful for:\n",
    "\n",
    "- Sensitive data such as passwords.\n",
    "- Minion configuration\n",
    "- Variables that are specific to a minion or group of minions and accessible via a template formula.\n",
    "- Any arbitrary data needed.\n"
   ]
  },
  {
   "cell_type": "markdown",
   "metadata": {},
   "source": [
    "The pillar subsystem runs in salt by default.  To look at a minion's pillar data, type\n",
    "<table align='left', width='750px'>\n",
    "<tr>\n",
    "<td>\n",
    "<p style='font-family:courier'>\n",
    "salt '*' pillar.items\n",
    "</p>\n",
    "</td>\n",
    "</tr>\n",
    "</table>\n"
   ]
  },
  {
   "cell_type": "markdown",
   "metadata": {},
   "source": [
    "The default root for pillars is located in /srv/pillars.  This can be changed in the master's configuration file via the key pillar_root: <br>\n",
    "As we saw with states, we can create a top level file *top.sls*.  We can then define a pillar heirarchy underneath it.  For example, consider a pillar heirarchy with a *users* pillar underneath the root.  We define our top.sls fil e in /srv/pillar like so:\n",
    "<table align='left', width='750px'>\n",
    "<tr>\n",
    "<td>\n",
    "<p style='font-family:courier'>\n",
    "base:<br>\n",
    "&nbsp;&nbsp;'*':<br>\n",
    "&nbsp;&nbsp;&nbsp;&nbsp;- users\n",
    "</p>\n",
    "</td>\n",
    "</tr>\n",
    "</table>\n"
   ]
  },
  {
   "cell_type": "markdown",
   "metadata": {},
   "source": [
    "Now, underneath /srv/pillars/users, we can create an init.sls file that looks like this:\n",
    "<table align='left', width='750px'>\n",
    "<tr>\n",
    "<td>\n",
    "<p style='font-family:courier'>\n",
    "\n",
    "users:<br>\n",
    "&nbsp;&nbsp;bbrelin: 1000<br>\n",
    "&nbsp;&nbsp;bobama: 1001<br>\n",
    "&nbsp;&nbsp;hclinton: 1002<br>\n",
    "&nbsp;&nbsp;bsanders: 1003<br>\n",
    "</p>\n",
    "</td>\n",
    "</tr>\n",
    "</table>\n"
   ]
  },
  {
   "cell_type": "markdown",
   "metadata": {},
   "source": [
    "Later on, we'll see how we can use the Jinja2 templating system to parameterize pillar data and use it within states. "
   ]
  },
  {
   "cell_type": "markdown",
   "metadata": {},
   "source": [
    "## Salt Grains vs Pillars\n",
    "\n",
    "Both grains and Pillars define input data to parameterize Salt states.\n",
    "\n",
    "Depending on the purpose of data, one should make a choice to put it in one place or another.\n",
    "\n",
    "NOTE:\n",
    "\n",
    "Here we talk about the practical differences between Grains and Pillars for the default use case only.\n",
    "\n",
    "<table align='left'>\n",
    "<tr><th>Differences</th><th>\tGrains</th><th>\tPillars</th>\n",
    "\n",
    "<tr><td>Info which...\t</td><td>... Minion knows about itself\t</td><td>... Minion asks Master about</td></tr>\n",
    "<tr><td>Distributed:</td>\t<td>Yes</td>\t<td>No</td><tr>\n",
    "<tr><td>Centralized:</td>\t<td>No</td>\t<td>Yes</td><tr>\n",
    "<tr><td>Computed automatically:</td><td>\tYes (mostly should)</td><td>\tNo</td><tr>\n",
    "<tr><td>Assigned manually:</td><td>\tNo (or kept to minimum)\t</td><td>Yes</td><tr>\n",
    "<tr><td>Conceptually intrinsic to...</td><td>\t... individual Minion node</td><td>\t... entire system managed by Master</td><tr>\n",
    "<tr><td>Data under revision control:</td><td>\tNo (if static values)</td><td>\tYes</td></tr>\n",
    "<tr><td>Defines...</td><td>\tprovided resources</td><td>\trequired resources</td></tr>\n",
    "</table>\n",
    "<br><br><br><br><br><br><br><br><br><br><br><br><br><br><br>\n",
    "Default use case\n",
    "\n",
    "In our default case the entire system is managed by a single person (authority).\n",
    "\n",
    "By default Grains are both:\n",
    "\n",
    "good case: evaluated automatically by Minion software in built-in (like functions in core.py) or custom Grains;<br>\n",
    "bad case: assigned manually in /etc/salt/minion file (or files it includes) on each Minion individually.\n",
    "By default Pillars are data defined manually in files under /srv/pillars. If not sure, it is almost always good to define required data in pillar (first).\n",
    "\n",
    "Distributed vs Centralized\n",
    "\n",
    "Because Grains are distributed, they are disadvantageous for manual management: one has to access Minions individually to configure Grains for specific Minion.\n",
    "\n",
    "Instead, it is more convenient to define manual data centrally in Pillars.\n",
    "\n",
    "It is crucial to differentiate between static and non-static custom Grains:\n",
    "\n",
    "Static grains have to be distributed across Minions (in their configuration files).\n",
    "Non-static grains are effectively centralized on Master and pushed to Minions for evaluation.\n",
    "Probably, the only static Grain one wants to define is Minion id. The rest information about Minion should either be assigned to it through Pillars (using Minion id as a key) or evaluated in non-static grains.\n",
    "\n",
    "In other words:\n",
    "\n",
    "static Grains are the bad (impractical) use of Grains;\n",
    "non-static Grains are the good (practical) use of Grains.\n",
    "This also suggests that:\n",
    "\n",
    "Pillars values are normally under revision control centrally on Master;\n",
    "static Grains values are less convenient to be kept revisioned (or even used);\n",
    "source code (not values) for non-static Grains is also normally under revision control on Master.\n",
    "Manual vs Automatic\n",
    "\n",
    "Because Grains can be computed automatically, they are meant to collect information which is Minion-specific and unknown in advance.\n",
    "\n",
    "The only practical cases for custom Grains are non-static ones with automatic evaluation on the minion.\n",
    "\n",
    "Pillars are manually defined for the required state of the system which Salt is supposed to manage and enforce.\n",
    "\n",
    "System-wide vs Node-specific\n",
    "\n",
    "Pillars suit more to define (top-down) entire system of Minions as required: roles, credentials, platforms, policies, etc.\n",
    "Grains suit more to define (bottom-up) environment of individual Minions as provided.\n",
    "Good vs Bad\n",
    "\n",
    "Defining good as practical and bad as impractical is heavily influenced by managing system with two hands at a time (single person).\n",
    "\n",
    "In other cases, static grains may actually be very useful to let (multiple) owners of individual hodes manage preferences. This effectively makes distributed nature of static Grains match nature of responsibilities distributed among the owners. This is simply not default use case."
   ]
  },
  {
   "cell_type": "markdown",
   "metadata": {},
   "source": [
    "## Introduction to YAML\n",
    "YAML stands for YAML Ain't a Markup Language.  YAML is a text based format for creating structured data that is very readable and understandable.  This differs in marked contrast to other types of markup languages such as XML, which is notorious for being difficult to read and expensive to parse. <br>\n",
    "YAML consists of keys and values, For example let us consider a YAML file which describes an automibile:\n",
    "\n",
    "\n",
    "<table align='left', width='800px'>\n",
    "<tr>\n",
    "<td>\n",
    "<p style='font-family: courier'>\n",
    "\\# A YAML example <br>\n",
    "Mercedes: <br>\n",
    "&nbsp;&nbsp;Type:<br> \n",
    "&nbsp;&nbsp;&nbsp;&nbsp;-<br> \n",
    "&nbsp;&nbsp;&nbsp;&nbsp;&nbsp;&nbsp;Hatchback:<br> \n",
    "&nbsp;&nbsp;&nbsp;&nbsp;&nbsp;&nbsp;&nbsp;&nbsp;Fuel: \"-- 'Petrol' -- 'Diesel'\" <br>\n",
    "&nbsp;&nbsp;&nbsp;&nbsp;&nbsp;&nbsp;&nbsp;&nbsp;Model: A<br>\n",
    "&nbsp;&nbsp;&nbsp;&nbsp;&nbsp;&nbsp;&nbsp;&nbsp;Weight: 1400<br>\n",
    "&nbsp;&nbsp;&nbsp;&nbsp;-<br> \n",
    "&nbsp;&nbsp;&nbsp;&nbsp;&nbsp;&nbsp;Saloon: <br> \n",
    "&nbsp;&nbsp;&nbsp;&nbsp;&nbsp;&nbsp;&nbsp;&nbsp;Fuel: \"-- 'Petrol' -- 'Diesel' -- 'Electric'\"<br>\n",
    "&nbsp;&nbsp;&nbsp;&nbsp;&nbsp;&nbsp;&nbsp;&nbsp;Model: C<br>\n",
    "&nbsp;&nbsp;&nbsp;&nbsp;&nbsp;&nbsp;&nbsp;&nbsp;Weight: 2250\n",
    "</p>\n",
    "</td>\n",
    "</tr>\n",
    "</table>   \n",
    "<br><br><br><br><br><br><br><br><br><br><br><br><br><br>\n",
    "Note that we have a top level key, 'Mercedes', which maps to a complex value.  We have a list called 'Type' with two elements.  We also have an internal list 'Fuel' which is part of the value mapped to 'Type'.\n",
    "Notice that YAML uses indentation to resolve heirarchy.  'Type is part of the 'Mercedes' key because it has been indented.  If it were on the same indentation level, then it would be a completely separate key/value pair.\n"
   ]
  },
  {
   "cell_type": "markdown",
   "metadata": {},
   "source": [
    "YAML Best Practices\n",
    "- Use UTF-8 encoding when saving files.\n",
    "- Always use spaces for indentation, never tabs.\n",
    "- Edit with a text editor, not a WYSIWYG editor such as Microsoft Word.\n",
    "- Use a monowidth/monospace font such as Courier when viewing YAML files."
   ]
  },
  {
   "cell_type": "markdown",
   "metadata": {},
   "source": [
    "## The Jinja2 templating system. \n",
    "So far, all of the examples of salt files, such as states, pillars and grains that we've seen having been using static YAML files.  That is, all of the variables have been directly assigned values in YAML.  However, many times, we want to be able to assign values to these variables dynamically, for example if I want to perform some action on a minion based on its operating system, then we need a new tool allow this.  That tool is *Jinja2*.  <br>\n",
    "Jinja2 is known a templating system, that is, a system that allows us to replace the value of variables  dynamically at runtime.  <br>\n",
    "Jinja2 adds limited programming capabilities to your state, pillar and custom grain files.<br><br>\n"
   ]
  },
  {
   "cell_type": "markdown",
   "metadata": {},
   "source": [
    "Let us consider the following problem. When we want to install the packages Apache web server and vim text editor on a minion, the name of the web server varies from distribution to distribution. In a RedHat based distribution, the server is called 'httpd' and vim is called 'vim-enhanced'.  In a Debian based distribution, the server is called 'apache' and vim is just called 'vim'.  This means that we need to be able to distinguish on the fly what type of Linux distribution is being run on the minion. To do this, let's create a *pkg* pillar. <br>\n",
    "Here we define a pillar file called */srv/pillar/pkg/init.sls* <br><br>\n",
    "<table align='left',width='750px'>\n",
    "<tr>\n",
    "<td>\n",
    "<p style='font-family:courier'>\n",
    "pkgs:<br>\n",
    "&nbsp;&nbsp;{% if grains['os_family'] == 'RedHat' %}<br>\n",
    "&nbsp;&nbsp;  apache: httpd<br>\n",
    "&nbsp;&nbsp;  vim: vim-enhanced<br>\n",
    "&nbsp;&nbsp;  {% elif grains['os_family'] == 'Debian' %}<br>\n",
    "&nbsp;&nbsp;  apache: apache2<br>\n",
    "&nbsp;&nbsp; vim: vim<br>\n",
    "&nbsp;&nbsp;  {% elif grains['os'] == 'Arch' %}<br>\n",
    " &nbsp;&nbsp; apache: apache<br>\n",
    "&nbsp;&nbsp;  vim: vim<br>\n",
    "&nbsp;&nbsp;  {% endif %}<br>\n",
    "</p>\n",
    "</td>\n",
    "</tr>\n",
    "</table>"
   ]
  },
  {
   "cell_type": "markdown",
   "metadata": {},
   "source": [
    "Now we add this pkg.sls to the pillars top.sls file\n",
    "<table align='left', width='750px'>\n",
    "<tr>\n",
    "<td>\n",
    "<p style='font-family:courier'>\n",
    "base:\n",
    "&nbsp;&nbsp;'*':<br>\n",
    "&nbsp;&nbsp;&nbsp;&nbsp;- data<br>\n",
    "&nbsp;&nbsp;&nbsp;&nbsp;- users<br>\n",
    "&nbsp;&nbsp;&nbsp;&nbsp;- pkg<br>\n",
    "</p>\n",
    "</td>\n",
    "</tr>\n",
    "</table>"
   ]
  },
  {
   "cell_type": "markdown",
   "metadata": {},
   "source": [
    "Now, instead of having to write YAML text to cover every possible type of Linux O/S distribution, we can write the following into our /srv/packages/apache/init.sls file:\n",
    "\n",
    "<table align='left',width='750px'>\n",
    "<tr>\n",
    "<td>\n",
    "<p style='font-family:courier'>\n",
    "apache:<br>\n",
    "&nbsp;&nbsp;pkg.installed:<br>\n",
    "&nbsp;&nbsp;&nbsp;&nbsp;- name: {{ salt\\['pillar.get'\\]('pkgs:apache', 'httpd') }}<br>\n",
    "</p>\n",
    "</td>\n",
    "</tr>\n",
    "</table>"
   ]
  },
  {
   "cell_type": "markdown",
   "metadata": {},
   "source": [
    "The Jinja template expression here is looking up the pillar.get function inside the main salt dictionary, and then runs it with the following parameters 'pkgs:apache' and 'httpd'.  <br>\n",
    "Saltstack then goes to the the apache init.sls file and runs the Jinja2 expression.  From there it goes to the pkg init.sls and evaluates which type of O/S the minion is running which will get returned in to the 'apache' key.  If it isn't running either of the two Linux distribution, the default evaluates to 'httpd'. "
   ]
  },
  {
   "cell_type": "markdown",
   "metadata": {},
   "source": [
    "Notice the use of the Jinja2 templating system in the above examples.  Jinja2 statements begin and end  with one of the following types.'\n",
    "- '{%' and '%}' for Jinja statements.\n",
    "- '{{' and '}}' for Jinja expressions.\n",
    "- '{#' and '#}' for Jinja comments. \n",
    "\n",
    "When salt reads the pkgs file prior to executing it, it evaluates the Jinja2 statements and produces a formatted output file in YAML format (the default output) which will be evaluated. "
   ]
  },
  {
   "cell_type": "markdown",
   "metadata": {},
   "source": [
    "Jinja has some limited control flow capabilities.  For example:\n",
    "\n",
    "<table align='left',width='750px'>\n",
    "<tr>\n",
    "<td>\n",
    "<p style='font-family:courier'>\n",
    "{% if grains['os'] != 'FreeBSD' %}<br>\n",
    "tcsh:<br>\n",
    "&nbsp;&nbsp;&nbsp;&nbsp;pkg:<br>\n",
    "&nbsp;&nbsp;&nbsp;&nbsp;&nbsp;&nbsp;&nbsp;&nbsp;- installed<br>\n",
    "{% endif %}<br>\n",
    "</p>\n",
    "</td>\n",
    "</tr>\n",
    "</table>\n",
    "<br><br><br><br><br><br><br><br>\n",
    "Here we see an example of the if statement.  Note that all if's must end with an 'endif' statement in Jinja.\n",
    "This template code checks the value of the 'os' grain.  If the minion is not running FreeBSD, then install the 'tcsh' shell on the system. \n"
   ]
  },
  {
   "cell_type": "markdown",
   "metadata": {},
   "source": [
    "Let's see a further example.\n",
    "<table align='left',width='750px'>\n",
    "<tr>\n",
    "<td>\n",
    "<p style='font-family:courier'>\n",
    "motd:<br>\n",
    "&nbsp;&nbsp;file.managed:<br>\n",
    "&nbsp;&nbsp;&nbsp;&nbsp;{% if grains['os'] == 'FreeBSD' %}<br>\n",
    "&nbsp;&nbsp;&nbsp;&nbsp;- name: /etc/motd<br>\n",
    "&nbsp;&nbsp;&nbsp;&nbsp;{% elif grains['os'] == 'Debian' %}<br>\n",
    "&nbsp;&nbsp;&nbsp;&nbsp;- name: /etc/motd.tail<br>\n",
    "&nbsp;&nbsp;&nbsp;&nbsp;{% endif %}<br>\n",
    "&nbsp;&nbsp;&nbsp;&nbsp;- source: salt://motd<br>\n",
    "</p>\n",
    "</td>\n",
    "</tr>\n",
    "</table>\n",
    "<br><br><br><br><br><br><br><br><br><br>\n",
    "In this example we have a compound if statement.  Here we check to see if the minion is running FreeBSD. If it is, then the name of the motd file will be set to /etc/mod, otherwise we'll set the file name to motd.tail.  We then tell salt that the default location source for this file is in /srv/salt/base/motd/httpd.conf by referring to the salt URI.\n",
    "</p>\n",
    "</td>\n",
    "</tr>\n",
    "</table>"
   ]
  },
  {
   "cell_type": "markdown",
   "metadata": {},
   "source": [
    "We can also use for loops to iterate over collections of data. Continuing our motd example:\n",
    "<table align='left',width='750px'>\n",
    "<tr>\n",
    "<td>\n",
    "<p style='font-family:courier'>\n",
    "{% set motd = ['/etc/motd'] %}<br>\n",
    "{% if grains['os'] == 'Debian' %}<br>\n",
    "&nbsp;&nbsp;{% set motd = ['/etc/motd.tail', '/var/run/motd'] %}<br>\n",
    "{% endif %}<br>\n",
    "<br>\n",
    "{% for motdfile in motd %}<br>\n",
    "{{ motdfile }}:<br>\n",
    "&nbsp;&nbsp;&nbsp;&nbsp;file.managed:<br>\n",
    "&nbsp;&nbsp;&nbsp;&nbsp;- source: salt://motd<br>\n",
    "{% endfor %}<br>\n",
    "</p>\n",
    "</td>\n",
    "</tr>\n",
    "</table>\n",
    "<br><br><br><br><br><br><br><br><br><br><br><br><br>\n",
    "Here, we set a list variable called *motd* to have as it's first element the default location and name of the motd file. We test our os grain and if it's value is set to Debian, then we change the file name and add a second element. '/var/run/motd', to the motd list.\n",
    "<br><br>\n",
    "We can then loop over each element of the motd list and run the file.managed method setting each file's source location to /srv/salt/base/motd. "
   ]
  },
  {
   "cell_type": "markdown",
   "metadata": {},
   "source": [
    "One of the real advantages of the jinja templating system is that allows us to expand state files without having to completely rewrite them.  Let's consider the following problem.  We have a QA and a development environment.  Each environment has a different .vimrc file with different settings to better fit which ever environment needed.  How can we deploy this so that QA servers get the .qavimrc and development servers get the .devrimrc files?\n",
    "Let's first look at our naive vim state implementation located in /srv/salt/edit/vim.sls. \n",
    "<table align='left',width='750px'>\n",
    "<tr>\n",
    "<td>\n",
    "</p style='font-family:courier'>\n",
    "vim:<br>\n",
    "&nbsp;&nbsp;pkg.installed: []<br>\n",
    "<br>\n",
    "/etc/vimrc:<br>\n",
    "&nbsp;&nbsp;file.managed:<br>\n",
    "&nbsp;&nbsp;&nbsp;&nbsp;- source: salt://edit/vimrc<br>\n",
    "&nbsp;&nbsp;&nbsp;&nbsp;- mode: 644<br>\n",
    "&nbsp;&nbsp;&nbsp;&nbsp;- user: root<br>\n",
    "&nbsp;&nbsp;&nbsp;&nbsp;- group: root<br>\n",
    "&nbsp;&nbsp;&nbsp;&nbsp;- require:<br>\n",
    "&nbsp;&nbsp;&nbsp;&nbsp;&nbsp;&nbsp;- pkg: vim<br>\n",
    "</p>\n",
    "</td>\n",
    "</tr>\n",
    "</table>\n",
    "<br><br><br><br><br><br><br><br><br><br><br><br><br>\n",
    "This pillar deploys a vimrc file that is the same across all of our environments. So let's change it to be more intelligent by determing which type of vimrc file we want to install. "
   ]
  },
  {
   "cell_type": "markdown",
   "metadata": {},
   "source": [
    "Here is our new /srv/salt/edit/vim.sls state file. \n",
    "<table align='left',width='750px'>\n",
    "<tr>\n",
    "<td>\n",
    "</p style='font-family:courier'>\n",
    "vim:<br>\n",
    "&nbsp;&nbsp;pkg.installed:<br>\n",
    "&nbsp;&nbsp;&nbsp;&nbsp;- name: {{ pillar['pkgs']['vim'] }}<br>\n",
    "<br>\n",
    "/etc/vimrc:<br>\n",
    "&nbsp;&nbsp;file.managed:<br>\n",
    "&nbsp;&nbsp;&nbsp;&nbsp;- source: {{ pillar['vimrc'] }}<br>\n",
    "&nbsp;&nbsp;&nbsp;&nbsp;- mode: 644<br>\n",
    "&nbsp;&nbsp;&nbsp;&nbsp;- user: root<br>\n",
    "&nbsp;&nbsp;&nbsp;&nbsp;- group: root<br>\n",
    "&nbsp;&nbsp;&nbsp;&nbsp;- require:<br>\n",
    "&nbsp;&nbsp;&nbsp;&nbsp;&nbsp;&nbsp;- pkg: vim<br>\n",
    "</p>\n",
    "</td>\n",
    "</tr>\n",
    "</table>\n",
    "<br><br><br><br><br><br><br><br><br><br><br><br><br>"
   ]
  },
  {
   "cell_type": "markdown",
   "metadata": {},
   "source": [
    "And here is our vim pillar in /srv/pillar/edit/vim.sls\n",
    "\n",
    "<table width='750px',align='left'>\n",
    "<tr>\n",
    "<td>\n",
    "<p style='font-family:courier'>\n",
    "{% if grains['id'].startswith('dev') %}<br>\n",
    "vimrc: salt://edit/dev_vimrc<br>\n",
    "{% elif grains['id'].startswith('qa') %}<br>\n",
    "vimrc: salt://edit/qa_vimrc<br>\n",
    "{% else %}<br>\n",
    "vimrc: salt://edit/vimrc<br>\n",
    "{% endif %}<br>\n",
    "</p>\n",
    "</td>\n",
    "</tr>\n",
    "</table>\n",
    "<br><br><br><br><br><br><br><br><br><br>\n",
    "Note that the pillar file defines the value of the variable vimrc by checking to see if the id of the minion starts with a 'qa' or a 'dev'.  This assumes, of course that your organization has a naming convention for their servers such that all development servers start with a 'dev' and all qa servers start with a 'qa'. Thus, the vimrc variable defines the source location for the vimrc file. "
   ]
  },
  {
   "cell_type": "markdown",
   "metadata": {},
   "source": []
  },
  {
   "cell_type": "markdown",
   "metadata": {},
   "source": [
    "## Salt Installation and Configuration\n",
    "- Getting Salt\n",
    "- Source Installation\n",
    "- Packaged Installation\n",
    "- Salt Bootstrap\n",
    "- Salt Master Network Ports\n",
    "- Minion Firewall\n",
    "- Basic Minion Configuration\n",
    "- Salt Security\n",
    "- Lab 1.  Installing Salt"
   ]
  },
  {
   "cell_type": "markdown",
   "metadata": {},
   "source": [
    "### Getting Salt\n",
    "- Installing from source on Linux.\n",
    "- Installing on Ubuntu via apt."
   ]
  },
  {
   "cell_type": "markdown",
   "metadata": {},
   "source": [
    "### Installing from source\n",
    "Make sure that you have git installed on your system. \n",
    "Then run the following command\n",
    "<table align='left', width='700px'>\n",
    "<tr>\n",
    "<td>\n",
    "<p style='font-family:courier'>\n",
    "git clone https://github.com/saltstack/salt<br>\n",
    "</p>\n",
    "</td>\n",
    "</tr>\n",
    "</table>\n",
    "<br><br><br><br><br>\n",
    "Cloning the repository is enough to start working with Salt and contributing to the source code. You may wish, however to fetch additional tags from git.  Salt needs to be able to report the correct version for itself. \n",
    "First, we need to add the git repository as an upstream source.\n",
    "<table align='left', width='700px'>\n",
    "<tr>\n",
    "<td>\n",
    "<p style='font-family:courier'>\n",
    "git remote add upstream https://github.com/saltstack/salt<br>\n",
    "</p>\n",
    "</td>\n",
    "</tr>\n",
    "</table>\n",
    "<br><br><br><br><br>\n",
    "Then fetch tags with the 'git fetch' utility.\n",
    "<table align='left', width='700px'>\n",
    "<tr>\n",
    "<td>\n",
    "<p style='font-family:courier'>\n",
    "git fetch --tags upstream<br>\n",
    "</p>\n",
    "</td>\n",
    "</tr>\n",
    "</table>\n",
    "<br><br><br><br><br>"
   ]
  },
  {
   "cell_type": "markdown",
   "metadata": {},
   "source": [
    "As of this writing, Saltstack only works with Python version 2.  However, Python 3 is now in wide deployment.  This means that we'll want a virtual environment set up.<br><br>\n",
    "We can then create a new virtual environment with virtualenv.\n",
    "<table align='left', width='700px'>\n",
    "<tr>\n",
    "<td>\n",
    "<p style='font-family:courier'>\n",
    "virtualenv --system-site-packages -p /path/to/your/python2/installation /path/to/your/virtualenv\n",
    "</p>\n",
    "</td>\n",
    "</tr>\n",
    "</table>\n",
    "<br><br><br><br><br>\n",
    "Once you have virtualenv installed, run it like so:\n",
    "<table align='left', width='700px'>\n",
    "<tr>\n",
    "<td>\n",
    "<p style='font-family:courier'>\n",
    "source /path/to/your/virtualenv/bin/activate\n",
    "</p>\n",
    "</td>\n",
    "</tr>\n",
    "</table>\n",
    "<br><br><br><br><br>\n",
    "A quick note to Arch Linux users, Python 3 is the default environment.  Use virtualenv2 rather than virtualenv. \n",
    "If you're using another distribution besides Debian or Ubuntu, and you are installing M2Crypto via pip, then you must make sure that you have the gcc C compiler installed. "
   ]
  },
  {
   "cell_type": "markdown",
   "metadata": {},
   "source": [
    "Now you can install Salt into your virtual environment. \n",
    "<table align='left', width='700px'>\n",
    "<tr>\n",
    "<td>\n",
    "<p style='font-family:courier'>\n",
    "pip install pyzmq PyYAML pycrypto msgpack-python jinja2 psutil futures tornado\n",
    "pip install -e ./salt   # the path to the salt git clone from above\n",
    "</p>\n",
    "</td>\n",
    "</tr>\n",
    "</table>\n",
    "<br><br><br><br><br>\n",
    "Note:  Don't install the M2Crypto library from pip if you're using Debian or Ubuntu.  They have a patched version of OpenSSL and you need that version before you can use M2Crypto. Instead of using pip, use apt like so:\n",
    "<table align='left', width='700px'>\n",
    "<tr>\n",
    "<td>\n",
    "<p style='font-family:courier'>\n",
    "apt-get install python-m2crypto\n",
    "</p>\n",
    "</td>\n",
    "</tr>\n",
    "</table>\n",
    "<br><br><br><br><br>"
   ]
  },
  {
   "cell_type": "markdown",
   "metadata": {},
   "source": [
    "Once you have your virtual environment running, copy the salt master and salt minion configuration files into your virtual environment. \n",
    "<table align='left', width='700px'>\n",
    "<tr>\n",
    "<td>\n",
    "<p style='font-family:courier'>\n",
    "mkdir -p /path/to/your/virtualenv/etc/salt<br>\n",
    "cp ./salt/conf/master ./salt/conf/minion /path/to/your/virtualenv/etc/salt/\n",
    "<br>\n",
    "</p>\n",
    "</td>\n",
    "</tr>\n",
    "</table>\n",
    "<br><br><br>"
   ]
  },
  {
   "cell_type": "markdown",
   "metadata": {},
   "source": [
    "Now, you'll need to edit your master configuration file.\n",
    "\n",
    "1.    Uncomment and change the user: root value to your own user.\n",
    "2.    Uncomment and change the root_dir: / value to point to /path/to/your/virtualenv.\n",
    "3.    If you are running version 0.11.1 or older, uncomment, and change the pidfile: /var/run/salt-master.pid value to point to /path/to/your/virtualenv/salt-master.pid.\n",
    "4.    If you are also running a non-development version of Salt you will have to change the publish_port and ret_port values as well.\n",
    "\n"
   ]
  },
  {
   "cell_type": "markdown",
   "metadata": {},
   "source": [
    "And also edit the minion configuration file. <br>\n",
    "1. Repeat the edits you made in the master config for the user and root_dir values as well as any port changes.\n",
    "2. If you are running version 0.11.1 or older, uncomment, and change the pidfile: /var/run/salt-minion.pid value to point to /path/to/your/virtualenv/salt-minion.pid.\n",
    "3. Uncomment and change the master: salt value to point at localhost.\n",
    "4. Uncomment and change the id: value to something descriptive like \"saltdev\". This isn't strictly necessary but it will serve as a reminder of which Salt installation you are working with.\n",
    "5. If you changed the ret_port value in the master config because you are also running a non-development version of Salt, then you will have to change the master_port value in the minion config to match."
   ]
  },
  {
   "cell_type": "markdown",
   "metadata": {},
   "source": [
    "Start up the master and the minion, accept the minion's RSA key and verify that your local Salt installation is working. \n",
    "\n",
    "<table align='left', width='700px'>\n",
    "<tr>\n",
    "<td>\n",
    "<p style='font-family:courier'>\n",
    "cd /path/to/your/virtualenv<br>\n",
    "salt-master -c ./etc/salt -d<br>\n",
    "salt-minion -c ./etc/salt -d<br>\n",
    "salt-key -c ./etc/salt -L<br>\n",
    "salt-key -c ./etc/salt -A<br>\n",
    "salt -c ./etc/salt '*' test.ping<br>\n",
    "<br>\n",
    "</p>\n",
    "</td>\n",
    "</tr>\n",
    "</table>\n",
    "<br><br><br><br><br><br><br><br><br><br>\n",
    "Note that running the salt master and the minion with the *-l debug* option adds debugging output. If you want the output to go to the console rather than the log file, remove the -d option from the run commands. "
   ]
  },
  {
   "cell_type": "markdown",
   "metadata": {},
   "source": [
    "### Installing from Ubuntu with apt"
   ]
  },
  {
   "cell_type": "markdown",
   "metadata": {},
   "source": [
    "Saltstack has a PPA to allow installation of Salt on Ubuntu.\n",
    "Run the following command as root\n",
    "<table align='left', width='700px'>\n",
    "<tr>\n",
    "<td>\n",
    "<p style='font-family:courier'>\n",
    "root@saltmaster:~# apt-get --yes -q install python-software properties<br>\n",
    "root@saltmaster:~# add-apt-repository ppa:saltstack/salt<br>\n",
    "You are about to add the following PPA to your system:<br>\n",
    " Salt, the remote execution and configuration management tool.<br>\n",
    " More info: https://launchpad.net/~saltstack/+archive/salt<br>\n",
    "Press [ENTER] to continue or ctrl-c to cancel adding it<br>\n",
    "</p>\n",
    "</td>\n",
    "</tr>\n",
    "</table>\n",
    "<br><br><br><br><br><br><br><Br><br><br>\n",
    "You must press the [Enter] key, otherwise it won't add the repository"
   ]
  },
  {
   "cell_type": "markdown",
   "metadata": {},
   "source": [
    "Make sure you update Apt's package index.\n",
    "<table align='left', width='700px'>\n",
    "<tr>\n",
    "<td>\n",
    "<p style='font-family:courier'>\n",
    "root@saltmaster:~# apt-get --yes -q update<br>\n",
    "</p>\n",
    "</td>\n",
    "</tr>\n",
    "</table>\n",
    "<br><br><br>\n",
    "Also, install the Python development package. \n",
    "<table align='left', width='700px'>\n",
    "<tr>\n",
    "<td>\n",
    "<p style='font-family:courier'>\n",
    "root@saltmaster:~# apt-get -y python-dev<br>\n",
    "</p>\n",
    "</td>\n",
    "</tr>\n",
    "</table>\n",
    "<br><br><br>\n",
    "<p align='left'>Then install the salt-master package.</p> \n",
    "<table align='left', width='700px'>\n",
    "<tr>\n",
    "<td>\n",
    "<p style='font-family:courier'>\n",
    "root@saltmaster:~# apt-get --yes -q install salt-master<br>\n",
    "</p>\n",
    "</td>\n",
    "</tr>\n",
    "</table>"
   ]
  },
  {
   "cell_type": "markdown",
   "metadata": {},
   "source": [
    "Now we can configure the salt master. Let's do a real example of a simple configuration. \n",
    "1. Edit the /etc/salt/master configuration file and configure the interface parameter. \n",
    "Change it's value to the IP address of the salt master. \n",
    "<br>\n",
    "2. Change the base directory for the salt states files.  The default is /srv/salt.  Change that to \n",
    "/salt/states/base.  To do that, uncomment and edit the *file_roots:* parameter with the new value.\n",
    "3.  Create a new development environment in the top.sls file by adding the following:<br>\n",
    "<table align='left',width='700px'>\n",
    "<tr>\n",
    "<td>\n",
    "<p style='font-family:courier'>\n",
    "file_roots:<br>\n",
    "    base:<br>\n",
    "    \\- /salt/states/base <br>\n",
    "    development:<br>\n",
    "    \\- /salt/states/dev<br>\n",
    " </p>\n",
    " </td></tr></table>\n",
    " <br> <br> <br> <br> <br> <br> <br>\n",
    " <p align='left'>4.  Set the pillar_roots\n",
    " <table align='left',width='700px'>\n",
    "<tr>\n",
    "<td>\n",
    "<p style='font-family:courier'>\n",
    "pillar_roots:<br>\n",
    "    base:<br>\n",
    "    \\- /salt/pillars/base <br>\n",
    " </p>\n",
    " </td></tr></table>\n",
    " <br> <br> <br> <br> <br>\n",
    " Don't forget to create the directories specified in the salt master file!\n",
    " "
   ]
  },
  {
   "cell_type": "markdown",
   "metadata": {},
   "source": [
    "Once we have the master configured, we can then create a minion on a remote machine.  Note that we'll have to log in to the remote system to set up its configuration.  Once that is done, however, you may never need to log into it again.\n"
   ]
  },
  {
   "cell_type": "markdown",
   "metadata": {},
   "source": [
    "Start by installing the required python libraries onto the minion.\n",
    "\n",
    "<table align='left',width='700px'>\n",
    "<tr>\n",
    "<td>\n",
    "<p style='font-family:courier'>\n",
    "root@saltminion:~# apt-get --yes -q install python-software-properties\n",
    " </p>\n",
    " </td></tr></table>\n",
    " <br> <br> <br> <br> <br>\n",
    " Add the repository to apt. \n",
    " <table align='left',width='700px'>\n",
    "<tr>\n",
    "<td>\n",
    "<p style='font-family:courier'>\n",
    "root@saltminion:~# add-apt-repository ppa:saltstack/salt<br>\n",
    "You are about to add the following PPA to your system:<br>\n",
    "Salt, the remote execution and configuration management tool.<br>\n",
    "More info: https://launchpad.net/~saltstack/+archive/salt<br>\n",
    "Press [ENTER] to continue or ctrl-c to cancel adding it<br>\n",
    " </td></tr></table>\n",
    " <br> <br> <br> <br> <br><br><br><br><br>\n",
    " Update apt with apt-update\n",
    " <table align='left',width='700px'>\n",
    "<tr>\n",
    "<td>\n",
    "<p style='font-family:courier'>\n",
    "root@saltminion:~# apt-get --yes -q update\n",
    " </p>\n",
    " </td></tr></table>\n",
    " <br> <br> <br> <br> <br>\n",
    " Finally, install the salt-minion package\n",
    " <table align='left',width='700px'>\n",
    "<tr>\n",
    "<td>\n",
    "<p style='font-family:courier'>\n",
    "root@saltminion:~# apt-get --yes -q install salt-minion\n",
    " </p>\n",
    " </td></tr></table>\n",
    " <br> <br> <br> <br> <br>\n",
    " Repeat this process for every minion you wish to configure. "
   ]
  },
  {
   "cell_type": "markdown",
   "metadata": {},
   "source": [
    "Finally, the last thing we need to do is to configure the salt minion.  The only thing we really  need to do here is to set the IP address of the salt master.  A very nice workaround is to simply edit the minion's /etc/host file and have the default server name 'salt' resolve to the salt master's IP address.  Then simply push down a new, updated salt minion configuration file.  No manual editing of the salt minion's config file is needed. "
   ]
  },
  {
   "cell_type": "markdown",
   "metadata": {},
   "source": [
    "Restart the salt-minion.  Note that it is going to try and communicate with the salt-master, however, it will fail because the key hasn't been accepted yet.  The procedure for this is the same a the one noted above for installing via the source code. "
   ]
  },
  {
   "cell_type": "markdown",
   "metadata": {},
   "source": [
    "### Installing with bootstrap\n",
    "A third way of installing salt is by using the bootstrap bash script provided by SaltStack. There are multiple ways of downloading this script. \n",
    "\n",
    "Via Curl.\n",
    "<table align='left',width='700px'>\n",
    "<tr>\n",
    "<td>\n",
    "<p style='font-family:courier'>\n",
    "curl -o bootstrap-salt.sh -L https://bootstrap.saltstack.com\n",
    " </p>\n",
    " </td></tr></table>\n",
    " <br><br><br><br>\n",
    " Via Wget\n",
    " <table align='left',width='700px'>\n",
    "<tr>\n",
    "<td>\n",
    "<p style='font-family:courier'>\n",
    "wget -O bootstrap-salt.sh https://bootstrap.saltstack.com\n",
    " </p>\n",
    " </td></tr></table>\n",
    " <br><br><br><br>\n",
    " Via Python <br>\n",
    " <table align='left',width='700px'>\n",
    "<tr>\n",
    "<td>\n",
    "<p style='font-family:courier'>\n",
    "python -m urllib \"https://bootstrap.saltstack.com\" > bootstrap-salt.sh\n",
    " </p>\n",
    " </td></tr></table>\n",
    " <br><br><br><br>\n",
    " Once you have the script, by whichever method you choose, run it like so:\n",
    "  <table align='left',width='700px'>\n",
    "<tr>\n",
    "<td>\n",
    "<p style='font-family:courier'>\n",
    "sudo sh bootstrap-salt.sh\n",
    " </p>\n",
    " </td></tr></table>\n",
    " <br><br><br><br>\n",
    " This will download and install the latest stable version of SaltStack. Once done, we can now configure the master and create minions as we see fit. "
   ]
  },
  {
   "cell_type": "markdown",
   "metadata": {},
   "source": [
    "## Installing Salt to Amazon AWS\n"
   ]
  },
  {
   "cell_type": "markdown",
   "metadata": {},
   "source": [
    "Let's now do an example of implementing a package with Salt.  We'll install a webserver called *nginx* though salt. \n"
   ]
  },
  {
   "cell_type": "markdown",
   "metadata": {},
   "source": [
    "## Running Saltstack<br>\n",
    "\n",
    "Salt is primarily controlled by a command line interface run by the root user on the salt master.\n",
    "Let's look at the anatomy of the following salt command. \n",
    "<table align='left', width = '750px'>\n",
    "<tr>\n",
    "<td>\n",
    "<p style='font-family:courier'>\n",
    "salt '\\*' test.ping\n",
    "</p>\n",
    "</td>\n",
    "</tr>\n",
    "</table>\n",
    "<br><br><br><br>\n",
    "The first string 'salt' is the salt executable command.  There are multiple commands available with saltstack, including salt and salt-call.\n",
    "The second argument is the *target*.  This defines the target minion or minions that the salt command will run on. \n",
    "In this case we use the globbing wildcard '\\*' to specifiy all minions controlled by the master. Finally, we tell salt what execution module and method to run, in this case, we're going to use the test module and run the ping method.  The output will be the result of running a *ping* command on all minions controlled by this master. \n",
    "\n"
   ]
  },
  {
   "cell_type": "markdown",
   "metadata": {},
   "source": [
    "When you run a salt command from the command line, every single minion targeted by that master will run the command simultaneously.  The cmd module allows you to run specific shell commands directly on the minion by invoking the run method of the module.  For example. \n",
    "\n",
    "<table align='left', width = '750px'>\n",
    "<tr>\n",
    "<td>\n",
    "<p style='font-family:courier'>\n",
    "salt '\\*' cmd.run 'cat /etc/hosts'\n",
    "</td>\n",
    "</tr>\n",
    "</table>\n",
    "<br><br><br><br>\n",
    "Here we run the command 'cat /etc/hosts' on all minions since the target is '*'. "
   ]
  },
  {
   "cell_type": "markdown",
   "metadata": {},
   "source": [
    "While using the cmd module can be useful for running shell commands, you are far better served by running the execution modules available with salt.  These modules express the true power and ability of the Salt application. \n",
    "for example, if we want to get the disk space usage ('df') of a minion, instead of doing a cmd.run df, we can do the following:\n",
    "\n",
    "<table align='left', width = '750px'>\n",
    "<tr>\n",
    "<td>\n",
    "<p style='font-family:courier'>\n",
    "salt '\\*' disk.usage\n",
    "</p>\n",
    "</td>\n",
    "</tr>\n",
    "</table>\n",
    "<br><br><br><br>\n",
    "This command will call the disk module's usage method and execute it on all targeted minions."
   ]
  },
  {
   "cell_type": "markdown",
   "metadata": {},
   "source": [
    "There are many other types of modules, for example, a network module that has a method to list the network interfaces. \n",
    "\n",
    "\n",
    "<table align='left', width = '750px'>\n",
    "<tr>\n",
    "<td>\n",
    "<p style='font-family:courier'>\n",
    "salt '\\*' network.interfaces\n",
    "</p>\n",
    "</td>\n",
    "</tr>\n",
    "</table>\n",
    "<br><br><br><br>"
   ]
  },
  {
   "cell_type": "markdown",
   "metadata": {},
   "source": [
    "Or a module to install a specific package. \n",
    "\n",
    "<table align='left', width = '750px'>\n",
    "<tr>\n",
    "<td>\n",
    "<p style='font-family:courier'>\n",
    "salt '\\*' pkg.install vim\n",
    "</p>\n",
    "</td>\n",
    "</tr>\n",
    "</table>\n",
    "<br><br><br><br>"
   ]
  },
  {
   "cell_type": "markdown",
   "metadata": {},
   "source": [
    "Another important salt executable is *salt-call*.  Unlike salt, which runs its command on the salt master, the salt-call is called from the target minion.  This makes it very useful for debugging purposes.  For example running\n",
    "\n",
    "\n",
    "<table align='left', width = '750px'>\n",
    "<tr>\n",
    "<td>\n",
    "<p style='font-family:courier'>\n",
    "salt-call -l debug state.highstate\n",
    "</p>\n",
    "</td>\n",
    "</tr>\n",
    "</table>\n",
    "<br><br><br><br>\n",
    "on a specific minion will give detailed debugging information on the command line. "
   ]
  },
  {
   "cell_type": "markdown",
   "metadata": {},
   "source": [
    "## Targeting minions\n",
    "It is somewhat rare that you will run a specific execution module that will target all minions.  More likely, you will specify some filtering criteria to only target a specific minion or group of minions.  For example,\n",
    "<table align='left', width = '750px'>\n",
    "<tr>\n",
    "<td>\n",
    "<p style='font-family:courier'>\n",
    "salt 'webserver001' network.interfaces\n",
    "</p>\n",
    "</td>\n",
    "</tr>\n",
    "</table>\n",
    "<br><br><br><br>\n",
    "will run the network.interfaces execution only on the minion with the ID 'webserver001'.  "
   ]
  },
  {
   "cell_type": "markdown",
   "metadata": {},
   "source": [
    "We can target multiple minions by ordering them into a like so:\n",
    "<table align='left', width = '750px'>\n",
    "<tr>\n",
    "<td>\n",
    "<p style='font-family:courier'>\n",
    "salt -L 'webserver001, webserver002, webserver003' network.interfaces\n",
    "</p>\n",
    "</td>\n",
    "</tr>\n",
    "</table>\n",
    "<br><br><br><br>"
   ]
  },
  {
   "cell_type": "markdown",
   "metadata": {},
   "source": [
    "This, however, is the least of what we can do.  We can for example target minions by the value of a grain.  Recall that grains are platform computed values, such as memory, cpu, operating system type, etc. <br><br> Let's now target all minions that run Red Hat Enterprise Linux.\n",
    "\n",
    "<table align='left', width = '750px'>\n",
    "<tr>\n",
    "<td>\n",
    "<p style='font-family:courier'>\n",
    "salt -G 'os:RHEL' network.interfaces\n",
    "</p>\n",
    "</td>\n",
    "</tr>\n",
    "</table>\n",
    "<br><br><br><br>\n",
    "We see here that the -G option to salt will expect as the next paramter the value of a specific grain.  In this case, the grain is the os attribute and we're looking for all os keys that have the value of 'RHEL'.  "
   ]
  },
  {
   "cell_type": "markdown",
   "metadata": {},
   "source": [
    "We can also target minions using regular expressions.  For example, if we name our webservers webserver001 through webserver009 and we'd like to run a command targeting webservers 1-4 and 7, we can do the following:\n",
    "\n",
    "<table align='left', width = '750px'>\n",
    "<tr>\n",
    "<td>\n",
    "<p style='font-family:courier'>\n",
    "salt -E ' webserver00[1-47]' network.interfaces\n",
    "</p>\n",
    "</td>\n",
    "</tr>\n",
    "</table>\n",
    "<br><br><br><br>"
   ]
  },
  {
   "cell_type": "markdown",
   "metadata": {},
   "source": [
    "We also have the ability to do compound matches, i.e. to match on more than one criteria.  Let's see an example. \n",
    "<table align='left', width = '750px'>\n",
    "<tr>\n",
    "<td>\n",
    "<p style='font-family:courier'>\n",
    "salt -C 'E@webserver00[1-47]' and 'G@os:Ubuntu' network.interfaces\n",
    "</p>\n",
    "</td>\n",
    "</tr>\n",
    "</table>\n",
    "<br><br><br><br>\n",
    "This will return all of the network interfaces from webserver's 001 though 004 and 007 only if the operating system being run by the webserver is Ubuntu."
   ]
  }
 ],
 "metadata": {
  "kernelspec": {
   "display_name": "Python 3",
   "language": "python",
   "name": "python3"
  },
  "language_info": {
   "codemirror_mode": {
    "name": "ipython",
    "version": 3
   },
   "file_extension": ".py",
   "mimetype": "text/x-python",
   "name": "python",
   "nbconvert_exporter": "python",
   "pygments_lexer": "ipython3",
   "version": "3.5.2"
  }
 },
 "nbformat": 4,
 "nbformat_minor": 2
}

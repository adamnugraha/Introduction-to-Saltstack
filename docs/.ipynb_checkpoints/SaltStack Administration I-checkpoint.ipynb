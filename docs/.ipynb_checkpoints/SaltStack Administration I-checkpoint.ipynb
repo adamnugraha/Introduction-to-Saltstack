{
 "cells": [
  {
   "cell_type": "markdown",
   "metadata": {},
   "source": [
    "<h1 style='font-family: helvetica',align = 'center'>SaltStack Administration </h1>\n",
    "<h2 style='font-family: helvetica',align='center'>Created 2017/02/01 by Braun Brelin</h2>\n"
   ]
  },
  {
   "cell_type": "markdown",
   "metadata": {},
   "source": [
    "## What is DevOps?\n",
    "- All about bringing together developers and operations teams\n",
    "- Automating the environment\n",
    "- Measuring application performance\n"
   ]
  },
  {
   "cell_type": "markdown",
   "metadata": {},
   "source": [
    "### Automate everything\n",
    "- Automate code testing\n",
    "- Automate workflows\n",
    "- Automate infrastructure"
   ]
  },
  {
   "cell_type": "markdown",
   "metadata": {},
   "source": [
    " ### Constant iteration of development\n",
    "- Write new features and bug fixes in small chunks\n",
    "- Automatically create, test and monitor new software additions\n"
   ]
  },
  {
   "cell_type": "markdown",
   "metadata": {},
   "source": [
    "### Synchronize environments\n",
    "- Identical environments for development, test and production\n"
   ]
  },
  {
   "cell_type": "markdown",
   "metadata": {},
   "source": [
    "### Monitor yourself\n",
    "- Adopt iterative processes to monitor and measure code and operations daily.\n",
    "- Improve ability to quickly respond to customer concerns and market conditions. "
   ]
  },
  {
   "cell_type": "markdown",
   "metadata": {},
   "source": [
    "### Write code rather than perform manual actions\n",
    "- Teams write code to automate configuration management\n",
    "- Teams write code to handle triggered events.\n",
    "- Teams write code to allow them to scale their environment\n"
   ]
  },
  {
   "cell_type": "markdown",
   "metadata": {},
   "source": [
    "### Use source code control\n",
    "- Manage and document all changes to application code\n",
    "- Manage and document all changes to configurations and documentation."
   ]
  },
  {
   "cell_type": "markdown",
   "metadata": {},
   "source": [
    "### Adopt proper discipline\n",
    "- Use devops to develop processes in place to manage your environment and your applications\n",
    "- Put an end to controlled chaos that is the lot of most IT departments\n",
    "- Understand the control the impact of unforseen events and disasters. "
   ]
  },
  {
   "cell_type": "markdown",
   "metadata": {},
   "source": [
    "### Reduce time to market\n",
    "- Use devops to reduce the time it takes to bring new features and bug fixes from weeks and months to days and hours.\n",
    "- Deploy frequently using an Agile like methodology."
   ]
  },
  {
   "cell_type": "markdown",
   "metadata": {},
   "source": [
    "## What does Saltstack allow us to do?\n",
    "- Describe our infrastructure with code.\n",
    "- Makes our infrastructure scalable\n",
    "- Makes our infrastructure reliable.\n",
    "- Gives us consistent environments. \n",
    "- Better Security\n",
    "- Ability to quickly duplicate our environments. \n",
    "- Simplifies auditing and tracking capabilities"
   ]
  },
  {
   "cell_type": "markdown",
   "metadata": {},
   "source": [
    "### Managing infrastructure as code\n",
    "- Gives us revision control\n",
    "- Allows use of bug tracking and ticketing systems. \n",
    "- Ability to do peer review before changes happen.\n",
    "- Gives us infrastucture design patterns. \n",
    "- Test infrastucture changes the same way we test application changes."
   ]
  },
  {
   "cell_type": "markdown",
   "metadata": {},
   "source": [
    "### Monitoring and Metrics\n",
    "- Allows to track every possible resource\n",
    "- Gives us alerts on all services, availability and response times\n",
    "- Capture, learn and improve\n",
    "- Share access and data with everyone on the team\n",
    "- Plan metrics and monitoring into the application lifecycle.\n",
    "- Easily integrate third party monitoring and logging tools."
   ]
  },
  {
   "cell_type": "markdown",
   "metadata": {},
   "source": [
    "## What is SaltStack?\n",
    "- A tool to turn your infrastructure into software. \n",
    "- Automates packing and provisioning of code to your IT environment.\n",
    "- A massive finite state machine\n",
    "- Configuration manger for your operations devops and cloudops environments. \n",
    "\n"
   ]
  },
  {
   "cell_type": "markdown",
   "metadata": {},
   "source": [
    "## Saltstack components\n",
    " - Salt Master\n",
    " - Salt Minions\n",
    " - Execution Modules\n",
    " - States \n",
    " - Grains\n",
    " - Pillars\n",
    " - Top File\n",
    " - Runners\n",
    " - Returners\n",
    " - Reactors\n",
    " - Salt Cloud\n",
    " - Salt SSH "
   ]
  },
  {
   "cell_type": "markdown",
   "metadata": {},
   "source": [
    "### Salt Master\n",
    "- Central Management Server\n",
    "- Used to send commands and configuration data to salt minions running on managed systems."
   ]
  },
  {
   "cell_type": "markdown",
   "metadata": {},
   "source": [
    "### Salt Minion\n",
    "- Software that runs on a managed system. \n",
    "- Receives commands and configuration data from the Salt master\n"
   ]
  },
  {
   "cell_type": "markdown",
   "metadata": {},
   "source": [
    "### Execution Modules\n",
    "- Ad hoc commands executed from the command line against one or more managed systems.\n",
    "- perform real-time monitoring, status and inventory\n",
    "- Run one-off commands or scripts\n",
    "- Deploying critical updates."
   ]
  },
  {
   "cell_type": "markdown",
   "metadata": {},
   "source": [
    "### States\n",
    "- A representation of a system configuration. Can be declarative or imperative."
   ]
  },
  {
   "cell_type": "markdown",
   "metadata": {},
   "source": [
    "### Grains\n",
    "- Static system information about the managed system.\n",
    "- Examples include the operating system. CPU, Memory, and other properties.\n",
    "- You can define customized grains (properties) for your systems."
   ]
  },
  {
   "cell_type": "markdown",
   "metadata": {},
   "source": [
    "### Pillars\n",
    "- User defined properties.  \n",
    "- Stored securely on the salt master.\n",
    "- Assignable to one or more minions using targets\n",
    "- Examples include network ports, file paths, passwords, configuration parameters\n",
    "\n"
   ]
  },
  {
   "cell_type": "markdown",
   "metadata": {},
   "source": [
    "### Top file\n",
    "- Matches states and pillar data to minions\n"
   ]
  },
  {
   "cell_type": "markdown",
   "metadata": {},
   "source": [
    "### Runners\n",
    "- Modules that execute on the salt master to perform tasks. \n",
    "- Examples include runners that report job status, connection status, and query minions"
   ]
  },
  {
   "cell_type": "markdown",
   "metadata": {},
   "source": [
    "### Returners\n",
    "- Modules that can return data to various sources, such as a database.\n",
    "- Returners can run on the Salt minions or the Salt master."
   ]
  },
  {
   "cell_type": "markdown",
   "metadata": {},
   "source": [
    "### Reactor\n",
    "- Component that can be programmed to trigger reactions to specific events. \n"
   ]
  },
  {
   "cell_type": "markdown",
   "metadata": {},
   "source": [
    "### Salt Cloud\n",
    "- Allows provisioning of systems on cloud providers or hypervisors \n",
    "- Immediately brings these systems under salt management. "
   ]
  },
  {
   "cell_type": "markdown",
   "metadata": {},
   "source": [
    "### Salt SSH\n",
    "- Allows us to run Salt commands over SSH for systems that do not have a minion provisioned."
   ]
  },
  {
   "cell_type": "markdown",
   "metadata": {},
   "source": [
    "## Architectural overview of remote execution\n",
    "Salt is a highly configurable, scalable and robust application that allows one master to manage thousands of minions simultaneously with almost no performance loss.  This means that the time required to update many minions is at worst a logarithmic function rather than a linear or exponential function.    "
   ]
  },
  {
   "cell_type": "markdown",
   "metadata": {},
   "source": [
    "All Salt minions receive commands at the same time.  Salt can use multiple protocols to achieve this, however the recommended (and default) protocol is the ZeroMQ message queuing system.  While Salt can interface with many types of data stores, it's real win is being able to query minions in real time.  "
   ]
  },
  {
   "cell_type": "markdown",
   "metadata": {},
   "source": [
    "While Salt mainstains a master/slave relationship between the master and the minions, communication with the minions is mostly a set of instructions or commands to run.  The minion is responsible for doing the heavy lifting and returning the results back to the master."
   ]
  },
  {
   "cell_type": "markdown",
   "metadata": {},
   "source": [
    "Salt normalizes commands between different hardware platforms.  All commands and states are the same regardless of the underlying operating system being run on the minion. "
   ]
  },
  {
   "cell_type": "markdown",
   "metadata": {},
   "source": [
    "Salt will run wherever you can install Python.  If a minion cannot run Python, then Salt provides a *proxy minion* that can interface with the real minion and issue commands on behalf of the master un the minion's native protocol. Additionally, the proxy parses and returns all output from the minion back to the master. "
   ]
  },
  {
   "cell_type": "markdown",
   "metadata": {},
   "source": [
    "Salt can perform all of its functions without requiring or using a programming language (Although you will get its best performance if you know some of the Python programming language).   "
   ]
  },
  {
   "cell_type": "markdown",
   "metadata": {},
   "source": [
    "Everything in Salt is extensible.  You can even change the underlying network protocol.  You can create your own modules as well.  Following is an example of the remote execution architecture diagram. "
   ]
  },
  {
   "cell_type": "code",
   "execution_count": 1,
   "metadata": {
    "collapsed": false
   },
   "outputs": [
    {
     "data": {
      "text/plain": [
       "'/home/bbrelin/src/repos/saltstack/docs'"
      ]
     },
     "execution_count": 1,
     "metadata": {},
     "output_type": "execute_result"
    }
   ],
   "source": [
    "%pwd\n"
   ]
  },
  {
   "cell_type": "markdown",
   "metadata": {},
   "source": [
    "<a href = '../graphics/Remote%20Method%20Execution%20Architecture.png'> </a>"
   ]
  },
  {
   "cell_type": "markdown",
   "metadata": {},
   "source": [
    "## Salt Installation and Configuration\n",
    "- Getting Salt\n",
    "- Source Installation\n",
    "- Packaged Installation\n",
    "- Salt Bootstrap\n",
    "- Salt Master Network Ports\n",
    "- Minion Firewall\n",
    "- Basic Minion Configuration\n",
    "- Salt Security\n",
    "- Lab 1.  Installing Salt"
   ]
  },
  {
   "cell_type": "markdown",
   "metadata": {},
   "source": [
    "### Getting Salt\n",
    "- Installing from source on Linux.\n",
    "- Installing on Ubuntu via apt."
   ]
  },
  {
   "cell_type": "markdown",
   "metadata": {},
   "source": [
    "### Installing from source\n",
    "Make sure that you have git installed on your system. \n",
    "Then run the following command\n",
    "<table align='left', width='700px'>\n",
    "<tr>\n",
    "<td>\n",
    "<p style='font-family:courier'>\n",
    "git clone https://github.com/saltstack/salt<br>\n",
    "</p>\n",
    "</td>\n",
    "</tr>\n",
    "</table>\n",
    "<br><br><br><br><br>\n",
    "Cloning the repository is enough to start working with Salt and contributing to the source code. You may wish, however to fetch additional tags from git.  Salt needs to be able to report the correct version for itself. \n",
    "First, we need to add the git repository as an upstream source.\n",
    "<table align='left', width='700px'>\n",
    "<tr>\n",
    "<td>\n",
    "<p style='font-family:courier'>\n",
    "git remote add upstream https://github.com/saltstack/salt<br>\n",
    "</p>\n",
    "</td>\n",
    "</tr>\n",
    "</table>\n",
    "<br><br><br><br><br>\n",
    "Then fetch tags with the 'git fetch' utility.\n",
    "<table align='left', width='700px'>\n",
    "<tr>\n",
    "<td>\n",
    "<p style='font-family:courier'>\n",
    "git fetch --tags upstream<br>\n",
    "</p>\n",
    "</td>\n",
    "</tr>\n",
    "</table>\n",
    "<br><br><br><br><br>"
   ]
  },
  {
   "cell_type": "markdown",
   "metadata": {},
   "source": [
    "As of this writing, Saltstack only works with Python version 2.  However, Python 3 is now in wide deployment.  This means that we'll want a virtual environment set up.<br><br>\n",
    "We can then create a new virtual environment with virtualenv.\n",
    "<table align='left', width='700px'>\n",
    "<tr>\n",
    "<td>\n",
    "<p style='font-family:courier'>\n",
    "virtualenv --system-site-packages -p /path/to/your/python2/installation /path/to/your/virtualenv\n",
    "</p>\n",
    "</td>\n",
    "</tr>\n",
    "</table>\n",
    "<br><br><br><br><br>\n",
    "Once you have virtualenv installed, run it like so:\n",
    "<table align='left', width='700px'>\n",
    "<tr>\n",
    "<td>\n",
    "<p style='font-family:courier'>\n",
    "source /path/to/your/virtualenv/bin/activate\n",
    "</p>\n",
    "</td>\n",
    "</tr>\n",
    "</table>\n",
    "<br><br><br><br><br>\n",
    "A quick note to Arch Linux users, Python 3 is the default environment.  Use virtualenv2 rather than virtualenv. \n",
    "If you're using another distribution besides Debian or Ubuntu, and you are installing M2Crypto via pip, then you must make sure that you have the gcc C compiler installed. "
   ]
  },
  {
   "cell_type": "markdown",
   "metadata": {},
   "source": [
    "Now you can install Salt into your virtual environment. \n",
    "<table align='left', width='700px'>\n",
    "<tr>\n",
    "<td>\n",
    "<p style='font-family:courier'>\n",
    "pip install pyzmq PyYAML pycrypto msgpack-python jinja2 psutil futures tornado\n",
    "pip install -e ./salt   # the path to the salt git clone from above\n",
    "</p>\n",
    "</td>\n",
    "</tr>\n",
    "</table>\n",
    "<br><br><br><br><br>\n",
    "Note:  Don't install the M2Crypto library from pip if you're using Debian or Ubuntu.  They have a patched version of OpenSSL and you need that version before you can use M2Crypto. Instead of using pip, use apt like so:\n",
    "<table align='left', width='700px'>\n",
    "<tr>\n",
    "<td>\n",
    "<p style='font-family:courier'>\n",
    "apt-get install python-m2crypto\n",
    "</p>\n",
    "</td>\n",
    "</tr>\n",
    "</table>\n",
    "<br><br><br><br><br>"
   ]
  },
  {
   "cell_type": "markdown",
   "metadata": {},
   "source": [
    "Once you have your virtual environment running, copy the salt master and salt minion configuration files into your virtual environment. \n",
    "<table align='left', width='700px'>\n",
    "<tr>\n",
    "<td>\n",
    "<p style='font-family:courier'>\n",
    "mkdir -p /path/to/your/virtualenv/etc/salt<br>\n",
    "cp ./salt/conf/master ./salt/conf/minion /path/to/your/virtualenv/etc/salt/\n",
    "<br>\n",
    "</p>\n",
    "</td>\n",
    "</tr>\n",
    "</table>\n",
    "<br><br><br>"
   ]
  },
  {
   "cell_type": "markdown",
   "metadata": {},
   "source": [
    "Now, you'll need to edit your master configuration file.\n",
    "\n",
    "1.    Uncomment and change the user: root value to your own user.\n",
    "2.    Uncomment and change the root_dir: / value to point to /path/to/your/virtualenv.\n",
    "3.    If you are running version 0.11.1 or older, uncomment, and change the pidfile: /var/run/salt-master.pid value to point to /path/to/your/virtualenv/salt-master.pid.\n",
    "4.    If you are also running a non-development version of Salt you will have to change the publish_port and ret_port values as well.\n",
    "\n"
   ]
  },
  {
   "cell_type": "markdown",
   "metadata": {},
   "source": [
    "And also edit the minion configuration file. <br>\n",
    "1. Repeat the edits you made in the master config for the user and root_dir values as well as any port changes.\n",
    "2. If you are running version 0.11.1 or older, uncomment, and change the pidfile: /var/run/salt-minion.pid value to point to /path/to/your/virtualenv/salt-minion.pid.\n",
    "3. Uncomment and change the master: salt value to point at localhost.\n",
    "4. Uncomment and change the id: value to something descriptive like \"saltdev\". This isn't strictly necessary but it will serve as a reminder of which Salt installation you are working with.\n",
    "5. If you changed the ret_port value in the master config because you are also running a non-development version of Salt, then you will have to change the master_port value in the minion config to match."
   ]
  },
  {
   "cell_type": "markdown",
   "metadata": {},
   "source": [
    "Start up the master and the minion, accept the minion's RSA key and verify that your local Salt installation is working. \n",
    "\n",
    "<table align='left', width='700px'>\n",
    "<tr>\n",
    "<td>\n",
    "<p style='font-family:courier'>\n",
    "cd /path/to/your/virtualenv<br>\n",
    "salt-master -c ./etc/salt -d<br>\n",
    "salt-minion -c ./etc/salt -d<br>\n",
    "salt-key -c ./etc/salt -L<br>\n",
    "salt-key -c ./etc/salt -A<br>\n",
    "salt -c ./etc/salt '*' test.ping<br>\n",
    "<br>\n",
    "</p>\n",
    "</td>\n",
    "</tr>\n",
    "</table>\n",
    "<br><br><br><br><br><br><br><br><br><br>\n",
    "Note that running the salt master and the minion with the *-l debug* option adds debugging output. If you want the output to go to the console rather than the log file, remove the -d option from the run commands. "
   ]
  },
  {
   "cell_type": "markdown",
   "metadata": {},
   "source": [
    "### Installing from Ubuntu with apt"
   ]
  },
  {
   "cell_type": "markdown",
   "metadata": {},
   "source": [
    "Saltstack has a PPA to allow installation of Salt on Ubuntu.\n",
    "Run the following command as root\n",
    "<table align='left', width='700px'>\n",
    "<tr>\n",
    "<td>\n",
    "<p style='font-family:courier'>\n",
    "root@saltmaster:~# apt-get --yes -q install python-software properties<br>\n",
    "root@saltmaster:~# add-apt-repository ppa:saltstack/salt<br>\n",
    "You are about to add the following PPA to your system:<br>\n",
    " Salt, the remote execution and configuration management tool.<br>\n",
    " More info: https://launchpad.net/~saltstack/+archive/salt<br>\n",
    "Press [ENTER] to continue or ctrl-c to cancel adding it<br>\n",
    "</p>\n",
    "</td>\n",
    "</tr>\n",
    "</table>\n",
    "<br><br><br><br><br><br><br><Br><br><br>\n",
    "You must press the [Enter] key, otherwise it won't add the repository"
   ]
  },
  {
   "cell_type": "markdown",
   "metadata": {},
   "source": [
    "Make sure you update Apt's package index.\n",
    "<table align='left', width='700px'>\n",
    "<tr>\n",
    "<td>\n",
    "<p style='font-family:courier'>\n",
    "root@saltmaster:~# apt-get --yes -q update<br>\n",
    "</p>\n",
    "</td>\n",
    "</tr>\n",
    "</table>\n",
    "<br><br><br>\n",
    "Also, install the Python development package. \n",
    "<table align='left', width='700px'>\n",
    "<tr>\n",
    "<td>\n",
    "<p style='font-family:courier'>\n",
    "root@saltmaster:~# apt-get -y python-dev<br>\n",
    "</p>\n",
    "</td>\n",
    "</tr>\n",
    "</table>\n",
    "<br><br><br>\n",
    "<p align='left'>Then install the salt-master package.</p> \n",
    "<table align='left', width='700px'>\n",
    "<tr>\n",
    "<td>\n",
    "<p style='font-family:courier'>\n",
    "root@saltmaster:~# apt-get --yes -q install salt-master<br>\n",
    "</p>\n",
    "</td>\n",
    "</tr>\n",
    "</table>"
   ]
  },
  {
   "cell_type": "markdown",
   "metadata": {},
   "source": [
    "Now we can configure the salt master. Let's do a real example of a simple configuration. \n",
    "1. Edit the /etc/salt/master configuration file and configure the interface parameter. \n",
    "Change it's value to the IP address of the salt master. \n",
    "<br>\n",
    "2. Change the base directory for the salt states files.  The default is /srv/salt.  Change that to \n",
    "/salt/states/base.  To do that, uncomment and edit the *file_roots:* parameter with the new value.\n",
    "3.  Create a new development environment in the top.sls file by adding the following:<br>\n",
    "<table align='left',width='700px'>\n",
    "<tr>\n",
    "<td>\n",
    "<p style='font-family:courier'>\n",
    "file_roots:<br>\n",
    "    base:<br>\n",
    "    \\- /salt/states/base <br>\n",
    "    development:<br>\n",
    "    \\- /salt/states/dev<br>\n",
    " </p>\n",
    " </td></tr></table>\n",
    " <br> <br> <br> <br> <br> <br> <br>\n",
    " <p align='left'>4.  Set the pillar_roots\n",
    " <table align='left',width='700px'>\n",
    "<tr>\n",
    "<td>\n",
    "<p style='font-family:courier'>\n",
    "pillar_roots:<br>\n",
    "    base:<br>\n",
    "    \\- /salt/pillars/base <br>\n",
    " </p>\n",
    " </td></tr></table>\n",
    " <br> <br> <br> <br> <br>\n",
    " Don't forget to create the directories specified in the salt master file!\n",
    " "
   ]
  },
  {
   "cell_type": "markdown",
   "metadata": {},
   "source": [
    "Once we have the master configured, we can then create a minion on a remote machine.  Note that we'll have to log in to the remote system to set up its configuration.  Once that is done, however, you may never need to log into it again.\n"
   ]
  },
  {
   "cell_type": "markdown",
   "metadata": {},
   "source": [
    "Start by installing the required python libraries onto the minion.\n",
    "\n",
    "<table align='left',width='700px'>\n",
    "<tr>\n",
    "<td>\n",
    "<p style='font-family:courier'>\n",
    "root@saltminion:~# apt-get --yes -q install python-software-properties\n",
    " </p>\n",
    " </td></tr></table>\n",
    " <br> <br> <br> <br> <br>\n",
    " Add the repository to apt. \n",
    " <table align='left',width='700px'>\n",
    "<tr>\n",
    "<td>\n",
    "<p style='font-family:courier'>\n",
    "root@saltminion:~# add-apt-repository ppa:saltstack/salt<br>\n",
    "You are about to add the following PPA to your system:<br>\n",
    "Salt, the remote execution and configuration management tool.<br>\n",
    "More info: https://launchpad.net/~saltstack/+archive/salt<br>\n",
    "Press [ENTER] to continue or ctrl-c to cancel adding it<br>\n",
    " </td></tr></table>\n",
    " <br> <br> <br> <br> <br><br><br><br><br>\n",
    " Update apt with apt-update\n",
    " <table align='left',width='700px'>\n",
    "<tr>\n",
    "<td>\n",
    "<p style='font-family:courier'>\n",
    "root@saltminion:~# apt-get --yes -q update\n",
    " </p>\n",
    " </td></tr></table>\n",
    " <br> <br> <br> <br> <br>\n",
    " Finally, install the salt-minion package\n",
    " <table align='left',width='700px'>\n",
    "<tr>\n",
    "<td>\n",
    "<p style='font-family:courier'>\n",
    "root@saltminion:~# apt-get --yes -q install salt-minion\n",
    " </p>\n",
    " </td></tr></table>\n",
    " <br> <br> <br> <br> <br>\n",
    " Repeat this process for every minion you wish to configure. "
   ]
  },
  {
   "cell_type": "markdown",
   "metadata": {},
   "source": [
    "Finally, the last thing we need to do is to configure the salt minion.  The only thing we really  need to do here is to set the IP address of the salt master.  A very nice workaround is to simply edit the minion's /etc/host file and have the default server name 'salt' resolve to the salt master's IP address.  Then simply push down a new, updated salt minion configuration file.  No manual editing of the salt minion's config file is needed. "
   ]
  },
  {
   "cell_type": "markdown",
   "metadata": {},
   "source": [
    "Restart the salt-minion.  Note that it is going to try and communicate with the salt-master, however, it will fail because the key hasn't been accepted yet.  The procedure for this is the same a the one noted above for installing via the source code. "
   ]
  },
  {
   "cell_type": "markdown",
   "metadata": {},
   "source": [
    "### Installing with bootstrap\n",
    "A third way of installing salt is by using the bootstrap bash script provided by SaltStack. There are multiple ways of downloading this script. \n",
    "\n",
    "Via Curl.\n",
    "<table align='left',width='700px'>\n",
    "<tr>\n",
    "<td>\n",
    "<p style='font-family:courier'>\n",
    "curl -o bootstrap-salt.sh -L https://bootstrap.saltstack.com\n",
    " </p>\n",
    " </td></tr></table>\n",
    " <br><br><br><br>\n",
    " Via Wget\n",
    " <table align='left',width='700px'>\n",
    "<tr>\n",
    "<td>\n",
    "<p style='font-family:courier'>\n",
    "wget -O bootstrap-salt.sh https://bootstrap.saltstack.com\n",
    " </p>\n",
    " </td></tr></table>\n",
    " <br><br><br><br>\n",
    " Via Python <br>\n",
    " <table align='left',width='700px'>\n",
    "<tr>\n",
    "<td>\n",
    "<p style='font-family:courier'>\n",
    "python -m urllib \"https://bootstrap.saltstack.com\" > bootstrap-salt.sh\n",
    " </p>\n",
    " </td></tr></table>\n",
    " <br><br><br><br>\n",
    " Once you have the script, by whichever method you choose, run it like so:\n",
    "  <table align='left',width='700px'>\n",
    "<tr>\n",
    "<td>\n",
    "<p style='font-family:courier'>\n",
    "sudo sh bootstrap-salt.sh\n",
    " </p>\n",
    " </td></tr></table>\n",
    " <br><br><br><br>\n",
    " This will download and install the latest stable version of SaltStack. Once done, we can now configure the master and create minions as we see fit. "
   ]
  },
  {
   "cell_type": "markdown",
   "metadata": {},
   "source": [
    "Let's now do an example of implementing a package with Salt.  We'll install a webserver called *nginx* though salt. \n"
   ]
  },
  {
   "cell_type": "markdown",
   "metadata": {},
   "source": [
    "## Running Salt\n",
    "<table align='left', width = '700px'>\n",
    "<tr>\n",
    "<td>\n",
    "<p style='font-family:courier'>\n",
    "salt-master\n",
    "</p>\n",
    "</td>\n",
    "</tr>\n",
    "</table>"
   ]
  }
 ],
 "metadata": {
  "kernelspec": {
   "display_name": "Python 3",
   "language": "python",
   "name": "python3"
  },
  "language_info": {
   "codemirror_mode": {
    "name": "ipython",
    "version": 3
   },
   "file_extension": ".py",
   "mimetype": "text/x-python",
   "name": "python",
   "nbconvert_exporter": "python",
   "pygments_lexer": "ipython3",
   "version": "3.5.2"
  }
 },
 "nbformat": 4,
 "nbformat_minor": 2
}
